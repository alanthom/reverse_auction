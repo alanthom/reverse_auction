{
 "cells": [
  {
   "cell_type": "markdown",
   "metadata": {},
   "source": [
    "IMPORT PACKAGES AND DATA"
   ]
  },
  {
   "cell_type": "code",
   "execution_count": 2,
   "metadata": {},
   "outputs": [],
   "source": [
    "import pandas as pd\n",
    "import numpy as np\n"
   ]
  },
  {
   "cell_type": "code",
   "execution_count": 3,
   "metadata": {},
   "outputs": [],
   "source": [
    "all_bid = pd.read_pickle(r\"Data\\all_bids_hackathon_masked.pkl\")\n",
    "train_df=pd.read_csv(r\"Data\\all_events_data_train.csv\")\n",
    "rules_df=pd.read_csv(r\"Data\\auction_rules_masked.csv\")\n",
    "fx_conversion=pd.read_csv(r\"Data\\fx_conversion_rate.csv\")\n",
    "submission_df=pd.read_csv(r\"Data\\hackathon_submission_event_details_masked.csv\")\n",
    "iv=pd.read_pickle(r\"Data\\participant_initial_value_masked.pkl\")\n",
    "invit_df=pd.read_pickle(r\"Data\\participant_invitation_masked.pkl\")"
   ]
  },
  {
   "cell_type": "markdown",
   "metadata": {},
   "source": [
    "Preprocess"
   ]
  },
  {
   "cell_type": "code",
   "execution_count": 4,
   "metadata": {},
   "outputs": [],
   "source": [
    "train_df['data']='train'\n",
    "submission_df['data']='submission_df'\n"
   ]
  },
  {
   "cell_type": "code",
   "execution_count": 5,
   "metadata": {},
   "outputs": [],
   "source": [
    "full_df = pd.concat([train_df,submission_df])"
   ]
  },
  {
   "cell_type": "code",
   "execution_count": 6,
   "metadata": {},
   "outputs": [],
   "source": [
    "full_df.reset_index(drop=True,inplace=True)"
   ]
  },
  {
   "cell_type": "code",
   "execution_count": 7,
   "metadata": {},
   "outputs": [],
   "source": [
    "# df = pd.merge(train_df,rules_df,how='left',on='event_id')\n",
    "df = pd.merge(full_df,rules_df,how='left',on='event_id')"
   ]
  },
  {
   "cell_type": "code",
   "execution_count": 8,
   "metadata": {},
   "outputs": [],
   "source": [
    "all_bid_lot = pd.merge(all_bid,train_df[['event_id','Categ_L1']],on=\"event_id\",how=\"left\")"
   ]
  },
  {
   "cell_type": "code",
   "execution_count": 9,
   "metadata": {},
   "outputs": [],
   "source": [
    "df['Efficiency']=(df['bestbid_usd']-df['finalspend_usd'])/df['bestbid_usd']"
   ]
  },
  {
   "cell_type": "code",
   "execution_count": 10,
   "metadata": {},
   "outputs": [],
   "source": [
    "df['bidding_date'] = pd.to_datetime(df['bidding_date'])\n",
    "\n",
    "# Determine if the date is a weekend (Saturday=5, Sunday=6) or weekday (Mon-Fri=0-4)\n",
    "df['is_weekend'] = df['bidding_date'].dt.weekday >= 5  # Saturday and Sunday are >= 5\n",
    "\n",
    "# Alternatively, to get 'Weekday' or 'Weekend' as a label:\n",
    "df['day_type'] = df['bidding_date'].dt.weekday.apply(lambda x: 'Weekend' if x >= 5 else 'Weekday')"
   ]
  },
  {
   "cell_type": "code",
   "execution_count": 11,
   "metadata": {},
   "outputs": [],
   "source": [
    "participants = invit_df.groupby(['event_id','invitation_status'])['participant'].count().reset_index()\n",
    "participants['invitation_status'].unique()\n",
    "participants = participants[participants['invitation_status'].isin(['Invited','Invited-Incumbent'])]\n",
    "participants  =participants.groupby('event_id')['participant'].sum().reset_index()"
   ]
  },
  {
   "cell_type": "code",
   "execution_count": 12,
   "metadata": {},
   "outputs": [],
   "source": [
    "item_df = invit_df.groupby(['event_id','invitation_status'])['item_name'].nunique().reset_index()\n",
    "item_df['invitation_status'].unique()\n",
    "item_df = item_df[item_df['invitation_status'].isin(['Invited','Invited-Incumbent'])]\n",
    "item_df  =item_df.groupby('event_id')['item_name'].sum().reset_index()"
   ]
  },
  {
   "cell_type": "code",
   "execution_count": 13,
   "metadata": {},
   "outputs": [],
   "source": [
    "df=pd.merge(df,participants,\"left\",on='event_id')\n",
    "df=pd.merge(df,item_df,\"left\",on='event_id')\n",
    "df.columns = df.columns.str.replace(' ', '')\n",
    "df.columns = df.columns.str.lower()"
   ]
  },
  {
   "cell_type": "code",
   "execution_count": 14,
   "metadata": {},
   "outputs": [],
   "source": [
    "df['ratio']=df['participant']/df['item_name']"
   ]
  },
  {
   "cell_type": "code",
   "execution_count": 15,
   "metadata": {},
   "outputs": [
    {
     "data": {
      "text/plain": [
       "Index(['baselinespend_usd', 'bestbid_usd', 'finalspend_usd',\n",
       "       'effectiveness_usd', 'bidrankthattriggersovertime',\n",
       "       'overtimeperiod(minutes)', 'startovertimeifbidsubmittedwithin(minutes)',\n",
       "       'efficiency', 'participant', 'item_name', 'ratio'],\n",
       "      dtype='object')"
      ]
     },
     "execution_count": 15,
     "metadata": {},
     "output_type": "execute_result"
    }
   ],
   "source": [
    "float_columns = df.select_dtypes(include=['float']).columns\n",
    "float_columns"
   ]
  },
  {
   "cell_type": "code",
   "execution_count": 16,
   "metadata": {},
   "outputs": [],
   "source": [
    "numerical_df = df[float_columns]"
   ]
  },
  {
   "cell_type": "code",
   "execution_count": 17,
   "metadata": {},
   "outputs": [],
   "source": [
    "#time\n",
    "categorical_columns = df.select_dtypes(include=['object', 'category']).columns\n"
   ]
  },
  {
   "cell_type": "code",
   "execution_count": 18,
   "metadata": {},
   "outputs": [],
   "source": [
    "df_encoded = pd.get_dummies(df, columns=categorical_columns, drop_first=True)\n",
    "df_encoded.drop('bidding_date',axis=1,inplace=True)"
   ]
  },
  {
   "cell_type": "code",
   "execution_count": 19,
   "metadata": {},
   "outputs": [],
   "source": [
    "\n",
    "df_encoded = df_encoded.replace([np.nan, np.inf, -np.inf], 0)\n",
    "df_encoded = df_encoded.astype(int)\n",
    "df_filtered = df_encoded.loc[:, ~df_encoded.columns.str.contains('time', case=False)]\n",
    "df_filtered = df_filtered.loc[:, ~df_filtered.columns.str.contains('date', case=False)]\n",
    "df_filtered = df_filtered.loc[:, ~df_filtered.columns.str.contains('currency', case=False)]\n",
    "df_filtered = df_filtered.loc[:, ~df_filtered.columns.str.contains('event_id_', case=False)]\n",
    "df_filtered = df_filtered.loc[:, ~df_filtered.columns.str.contains('username', case=False)]\n",
    "df_filtered = df_filtered.loc[:, ~df_filtered.columns.str.contains('commodity_proms', case=False)]\n",
    "df_filtered = df_filtered.loc[:, ~df_filtered.columns.str.contains('efficiency', case=False)]\n",
    "df_filtered = df_filtered.loc[:, ~df_filtered.columns.str.contains('biddingperiod', case=False)]"
   ]
  },
  {
   "cell_type": "code",
   "execution_count": 20,
   "metadata": {},
   "outputs": [
    {
     "name": "stderr",
     "output_type": "stream",
     "text": [
      "C:\\Users\\40107607\\AppData\\Local\\Temp\\ipykernel_2764\\1483730146.py:2: SettingWithCopyWarning: \n",
      "A value is trying to be set on a copy of a slice from a DataFrame\n",
      "\n",
      "See the caveats in the documentation: https://pandas.pydata.org/pandas-docs/stable/user_guide/indexing.html#returning-a-view-versus-a-copy\n",
      "  time_df.drop('allowbiddingovertime',axis=1,inplace=True)\n",
      "C:\\Users\\40107607\\AppData\\Local\\Temp\\ipykernel_2764\\1483730146.py:28: SettingWithCopyWarning: \n",
      "A value is trying to be set on a copy of a slice from a DataFrame.\n",
      "Try using .loc[row_indexer,col_indexer] = value instead\n",
      "\n",
      "See the caveats in the documentation: https://pandas.pydata.org/pandas-docs/stable/user_guide/indexing.html#returning-a-view-versus-a-copy\n",
      "  time_df[col] = time_cols[col]\n"
     ]
    },
    {
     "name": "stdout",
     "output_type": "stream",
     "text": [
      "reviewtimeperiod\n",
      "runningtimeforthefirstlot\n",
      "timebetweenlotclosing\n",
      "biddingperiod\n"
     ]
    },
    {
     "name": "stderr",
     "output_type": "stream",
     "text": [
      "C:\\Users\\40107607\\AppData\\Local\\Temp\\ipykernel_2764\\1483730146.py:28: SettingWithCopyWarning: \n",
      "A value is trying to be set on a copy of a slice from a DataFrame.\n",
      "Try using .loc[row_indexer,col_indexer] = value instead\n",
      "\n",
      "See the caveats in the documentation: https://pandas.pydata.org/pandas-docs/stable/user_guide/indexing.html#returning-a-view-versus-a-copy\n",
      "  time_df[col] = time_cols[col]\n",
      "C:\\Users\\40107607\\AppData\\Local\\Temp\\ipykernel_2764\\1483730146.py:28: SettingWithCopyWarning: \n",
      "A value is trying to be set on a copy of a slice from a DataFrame.\n",
      "Try using .loc[row_indexer,col_indexer] = value instead\n",
      "\n",
      "See the caveats in the documentation: https://pandas.pydata.org/pandas-docs/stable/user_guide/indexing.html#returning-a-view-versus-a-copy\n",
      "  time_df[col] = time_cols[col]\n",
      "C:\\Users\\40107607\\AppData\\Local\\Temp\\ipykernel_2764\\1483730146.py:28: SettingWithCopyWarning: \n",
      "A value is trying to be set on a copy of a slice from a DataFrame.\n",
      "Try using .loc[row_indexer,col_indexer] = value instead\n",
      "\n",
      "See the caveats in the documentation: https://pandas.pydata.org/pandas-docs/stable/user_guide/indexing.html#returning-a-view-versus-a-copy\n",
      "  time_df[col] = time_cols[col]\n"
     ]
    }
   ],
   "source": [
    "time_df = df.loc[:, df.columns.str.contains('time|period', case=False)]\n",
    "time_df.drop('allowbiddingovertime',axis=1,inplace=True)\n",
    "datetimedf=time_df[['overtimeperiod(minutes)','starttime']]\n",
    "\n",
    "time_cols_list = ['reviewtimeperiod','runningtimeforthefirstlot','timebetweenlotclosing','biddingperiod']\n",
    "for col in time_cols_list:\n",
    "    print(col)\n",
    "    time_cols = time_df[[col]]\n",
    "    time_cols = time_cols.replace(\"nan\", \" \")\n",
    "    time_cols[['value', 'unit']] = time_cols[col].str.split(' ', expand=True)\n",
    " \n",
    "    time_cols['unit'] = time_cols[\"unit\"].replace(\n",
    "        {\n",
    "            \"\" : 0,\n",
    "            \"Minutes\" : 1,\n",
    "            \"Days\": 60*24,\n",
    "            \"Hours\" : 60,\n",
    "            \"Day\" : 60*24,\n",
    "            \"Hour\" : 60\n",
    "        }\n",
    "    )\n",
    "    time_cols['unit'] = time_cols[\"unit\"].fillna(0)\n",
    "    time_cols['value'] = time_cols[\"value\"].fillna(\"0\")\n",
    "    time_cols['value'] = time_cols['value'].replace(\"\", \"0\")\n",
    "    time_cols['value'] = time_cols['value'].astype(int)\n",
    "    time_cols[col] = time_cols['unit'] * time_cols['value']\n",
    " \n",
    "    time_df[col] = time_cols[col]"
   ]
  },
  {
   "cell_type": "code",
   "execution_count": 21,
   "metadata": {},
   "outputs": [],
   "source": [
    "time_df = time_df[['bidrankthattriggersovertime','biddingperiod','overtimeperiod(minutes)','reviewtimeperiod','timebetweenlotclosing']]"
   ]
  },
  {
   "cell_type": "code",
   "execution_count": 22,
   "metadata": {},
   "outputs": [],
   "source": [
    "time_df = time_df.fillna(0)"
   ]
  },
  {
   "cell_type": "code",
   "execution_count": 23,
   "metadata": {},
   "outputs": [],
   "source": [
    "time_df = pd.concat([time_df,datetimedf],axis=1)"
   ]
  },
  {
   "cell_type": "code",
   "execution_count": 24,
   "metadata": {},
   "outputs": [
    {
     "name": "stderr",
     "output_type": "stream",
     "text": [
      "C:\\Users\\40107607\\AppData\\Local\\Temp\\ipykernel_2764\\2140680625.py:1: SettingWithCopyWarning: \n",
      "A value is trying to be set on a copy of a slice from a DataFrame\n",
      "\n",
      "See the caveats in the documentation: https://pandas.pydata.org/pandas-docs/stable/user_guide/indexing.html#returning-a-view-versus-a-copy\n",
      "  numerical_df.rename(columns={'item_name':'itemno'},inplace=True)\n"
     ]
    }
   ],
   "source": [
    "numerical_df.rename(columns={'item_name':'itemno'},inplace=True)\n"
   ]
  },
  {
   "cell_type": "code",
   "execution_count": 25,
   "metadata": {},
   "outputs": [
    {
     "name": "stderr",
     "output_type": "stream",
     "text": [
      "C:\\Users\\40107607\\AppData\\Local\\Temp\\ipykernel_2764\\444128718.py:1: SettingWithCopyWarning: \n",
      "A value is trying to be set on a copy of a slice from a DataFrame\n",
      "\n",
      "See the caveats in the documentation: https://pandas.pydata.org/pandas-docs/stable/user_guide/indexing.html#returning-a-view-versus-a-copy\n",
      "  numerical_df.drop(['bidrankthattriggersovertime','overtimeperiod(minutes)','startovertimeifbidsubmittedwithin(minutes)'],axis=1,inplace=True)\n"
     ]
    }
   ],
   "source": [
    "numerical_df.drop(['bidrankthattriggersovertime','overtimeperiod(minutes)','startovertimeifbidsubmittedwithin(minutes)'],axis=1,inplace=True)"
   ]
  },
  {
   "cell_type": "code",
   "execution_count": 26,
   "metadata": {},
   "outputs": [],
   "source": [
    "df_final=pd.concat([numerical_df,time_df,df_filtered],axis=1)"
   ]
  },
  {
   "cell_type": "code",
   "execution_count": 27,
   "metadata": {},
   "outputs": [],
   "source": [
    "df_final= df_final.fillna(0)"
   ]
  },
  {
   "cell_type": "code",
   "execution_count": 28,
   "metadata": {},
   "outputs": [
    {
     "data": {
      "text/plain": [
       "['zone',\n",
       " 'bidding_date',\n",
       " 'event_format',\n",
       " 'Currency_PROms',\n",
       " 'Commodity_PROms',\n",
       " 'baselinespend_usd',\n",
       " 'bestbid_usd',\n",
       " 'finalspend_usd',\n",
       " 'effectiveness_usd',\n",
       " 'event_template',\n",
       " 'dag_categ',\n",
       " 'Categ_L1',\n",
       " 'Categ_L2',\n",
       " 'event_id',\n",
       " 'username',\n",
       " 'data']"
      ]
     },
     "execution_count": 28,
     "metadata": {},
     "output_type": "execute_result"
    }
   ],
   "source": [
    "full_df.columns.to_list()"
   ]
  },
  {
   "cell_type": "code",
   "execution_count": 29,
   "metadata": {},
   "outputs": [],
   "source": [
    "result = pd.concat([df_final, full_df[['event_id', 'data']]], axis=1)"
   ]
  },
  {
   "cell_type": "code",
   "execution_count": 30,
   "metadata": {},
   "outputs": [],
   "source": [
    "result = result.loc[:, ~result.columns.duplicated()]"
   ]
  },
  {
   "cell_type": "code",
   "execution_count": 31,
   "metadata": {},
   "outputs": [],
   "source": [
    "all_bid_lot['Savings'] = all_bid_lot['Savings'].astype(float)"
   ]
  },
  {
   "cell_type": "code",
   "execution_count": 32,
   "metadata": {},
   "outputs": [],
   "source": [
    "# Grouping and counting as per the original logic\n",
    "all_bid_lot_no = all_bid_lot.groupby(['Categ_L1','supplier'])['Lot/Item Bid Version'].count().reset_index()\n",
    "all_bid_lot_mean = all_bid_lot_no.groupby('Categ_L1')['Lot/Item Bid Version'].mean().reset_index()\n",
    "all_bid_lot_mean_supplier = all_bid_lot.groupby('Categ_L1')['supplier'].count().reset_index()\n",
    "all_bid_lot_mean_item = all_bid_lot.groupby('Categ_L1')['Item Name'].count().reset_index()\n",
    "all_bid_lot_mean_savings = all_bid_lot.groupby('Categ_L1')['Savings'].mean().reset_index()\n",
    "accepted_bids = all_bid_lot[all_bid_lot['Bid Status'] == 'Accepted']\n",
    "all_bid_lot_bid_status_count = accepted_bids.groupby('Categ_L1')['Bid Status'].count().reset_index()\n",
    "\n",
    "# Merging the grouped data into one DataFrame\n",
    "counts_all_bid = all_bid_lot_mean.rename(columns={'Lot/Item Bid Version': 'Mean_Lot_Item_Bid_Version'}) \\\n",
    "    .merge(all_bid_lot_mean_supplier.rename(columns={'supplier': 'Count_supplier'}), on='Categ_L1') \\\n",
    "    .merge(all_bid_lot_mean_item.rename(columns={'Item Name': 'Count_Item_Name'}), on='Categ_L1') \\\n",
    "    .merge(all_bid_lot_mean_savings.rename(columns={'Savings': 'Average_savings'}), on='Categ_L1') \\\n",
    "    .merge(all_bid_lot_bid_status_count.rename(columns={'Bid Status': 'Count_Accepted'}), on='Categ_L1')\\\n",
    "    .merge(all_bid_lot_no.groupby('Categ_L1')['Lot/Item Bid Version'].count().reset_index().rename(columns={'Lot/Item Bid Version': 'Count_Lot_Item_Bid_Version'}), on='Categ_L1')\n",
    "\n",
    "\n"
   ]
  },
  {
   "cell_type": "code",
   "execution_count": 33,
   "metadata": {},
   "outputs": [],
   "source": [
    "merged_df = pd.merge(full_df, counts_all_bid, on='Categ_L1', how='left')"
   ]
  },
  {
   "cell_type": "code",
   "execution_count": 34,
   "metadata": {},
   "outputs": [],
   "source": [
    "result1=pd.merge(result, merged_df[['event_id','Mean_Lot_Item_Bid_Version','Count_supplier','Count_Item_Name','Count_Lot_Item_Bid_Version','Count_Accepted','Average_savings']], on=['event_id'], how='left')"
   ]
  },
  {
   "cell_type": "code",
   "execution_count": 35,
   "metadata": {},
   "outputs": [
    {
     "data": {
      "text/html": [
       "<div>\n",
       "<style scoped>\n",
       "    .dataframe tbody tr th:only-of-type {\n",
       "        vertical-align: middle;\n",
       "    }\n",
       "\n",
       "    .dataframe tbody tr th {\n",
       "        vertical-align: top;\n",
       "    }\n",
       "\n",
       "    .dataframe thead th {\n",
       "        text-align: right;\n",
       "    }\n",
       "</style>\n",
       "<table border=\"1\" class=\"dataframe\">\n",
       "  <thead>\n",
       "    <tr style=\"text-align: right;\">\n",
       "      <th></th>\n",
       "      <th>baselinespend_usd</th>\n",
       "      <th>bestbid_usd</th>\n",
       "      <th>finalspend_usd</th>\n",
       "      <th>effectiveness_usd</th>\n",
       "      <th>efficiency</th>\n",
       "      <th>participant</th>\n",
       "      <th>itemno</th>\n",
       "      <th>ratio</th>\n",
       "      <th>bidrankthattriggersovertime</th>\n",
       "      <th>biddingperiod</th>\n",
       "      <th>...</th>\n",
       "      <th>setareviewperiodafterlotcloses_Yes</th>\n",
       "      <th>day_type_Weekend</th>\n",
       "      <th>event_id</th>\n",
       "      <th>data</th>\n",
       "      <th>Mean_Lot_Item_Bid_Version</th>\n",
       "      <th>Count_supplier</th>\n",
       "      <th>Count_Item_Name</th>\n",
       "      <th>Count_Lot_Item_Bid_Version</th>\n",
       "      <th>Count_Accepted</th>\n",
       "      <th>Average_savings</th>\n",
       "    </tr>\n",
       "  </thead>\n",
       "  <tbody>\n",
       "    <tr>\n",
       "      <th>0</th>\n",
       "      <td>123216.00</td>\n",
       "      <td>162000.63</td>\n",
       "      <td>111294.73</td>\n",
       "      <td>50705.90</td>\n",
       "      <td>0.312998</td>\n",
       "      <td>3.0</td>\n",
       "      <td>1.0</td>\n",
       "      <td>3.0</td>\n",
       "      <td>3.0</td>\n",
       "      <td>20.0</td>\n",
       "      <td>...</td>\n",
       "      <td>1</td>\n",
       "      <td>0</td>\n",
       "      <td>FULA</td>\n",
       "      <td>train</td>\n",
       "      <td>262.465034</td>\n",
       "      <td>739364</td>\n",
       "      <td>739364</td>\n",
       "      <td>2817</td>\n",
       "      <td>54418</td>\n",
       "      <td>-2.654656e+05</td>\n",
       "    </tr>\n",
       "    <tr>\n",
       "      <th>1</th>\n",
       "      <td>217168.38</td>\n",
       "      <td>217168.38</td>\n",
       "      <td>212932.80</td>\n",
       "      <td>4235.58</td>\n",
       "      <td>0.019504</td>\n",
       "      <td>4.0</td>\n",
       "      <td>1.0</td>\n",
       "      <td>4.0</td>\n",
       "      <td>0.0</td>\n",
       "      <td>30.0</td>\n",
       "      <td>...</td>\n",
       "      <td>1</td>\n",
       "      <td>0</td>\n",
       "      <td>GAEQ</td>\n",
       "      <td>train</td>\n",
       "      <td>77.891784</td>\n",
       "      <td>349812</td>\n",
       "      <td>349812</td>\n",
       "      <td>4491</td>\n",
       "      <td>30147</td>\n",
       "      <td>4.175511e+07</td>\n",
       "    </tr>\n",
       "    <tr>\n",
       "      <th>2</th>\n",
       "      <td>5744.16</td>\n",
       "      <td>5744.16</td>\n",
       "      <td>5744.16</td>\n",
       "      <td>0.00</td>\n",
       "      <td>0.000000</td>\n",
       "      <td>1.0</td>\n",
       "      <td>1.0</td>\n",
       "      <td>1.0</td>\n",
       "      <td>1.0</td>\n",
       "      <td>0.0</td>\n",
       "      <td>...</td>\n",
       "      <td>1</td>\n",
       "      <td>0</td>\n",
       "      <td>AJUL</td>\n",
       "      <td>train</td>\n",
       "      <td>77.891784</td>\n",
       "      <td>349812</td>\n",
       "      <td>349812</td>\n",
       "      <td>4491</td>\n",
       "      <td>30147</td>\n",
       "      <td>4.175511e+07</td>\n",
       "    </tr>\n",
       "    <tr>\n",
       "      <th>3</th>\n",
       "      <td>61179.86</td>\n",
       "      <td>61179.86</td>\n",
       "      <td>61179.86</td>\n",
       "      <td>0.00</td>\n",
       "      <td>0.000000</td>\n",
       "      <td>6.0</td>\n",
       "      <td>1.0</td>\n",
       "      <td>6.0</td>\n",
       "      <td>0.0</td>\n",
       "      <td>30.0</td>\n",
       "      <td>...</td>\n",
       "      <td>1</td>\n",
       "      <td>0</td>\n",
       "      <td>CJFZ</td>\n",
       "      <td>train</td>\n",
       "      <td>77.891784</td>\n",
       "      <td>349812</td>\n",
       "      <td>349812</td>\n",
       "      <td>4491</td>\n",
       "      <td>30147</td>\n",
       "      <td>4.175511e+07</td>\n",
       "    </tr>\n",
       "    <tr>\n",
       "      <th>4</th>\n",
       "      <td>126436.10</td>\n",
       "      <td>126436.10</td>\n",
       "      <td>121416.58</td>\n",
       "      <td>5019.52</td>\n",
       "      <td>0.039700</td>\n",
       "      <td>4.0</td>\n",
       "      <td>1.0</td>\n",
       "      <td>4.0</td>\n",
       "      <td>0.0</td>\n",
       "      <td>30.0</td>\n",
       "      <td>...</td>\n",
       "      <td>1</td>\n",
       "      <td>0</td>\n",
       "      <td>BMRW</td>\n",
       "      <td>train</td>\n",
       "      <td>77.891784</td>\n",
       "      <td>349812</td>\n",
       "      <td>349812</td>\n",
       "      <td>4491</td>\n",
       "      <td>30147</td>\n",
       "      <td>4.175511e+07</td>\n",
       "    </tr>\n",
       "    <tr>\n",
       "      <th>...</th>\n",
       "      <td>...</td>\n",
       "      <td>...</td>\n",
       "      <td>...</td>\n",
       "      <td>...</td>\n",
       "      <td>...</td>\n",
       "      <td>...</td>\n",
       "      <td>...</td>\n",
       "      <td>...</td>\n",
       "      <td>...</td>\n",
       "      <td>...</td>\n",
       "      <td>...</td>\n",
       "      <td>...</td>\n",
       "      <td>...</td>\n",
       "      <td>...</td>\n",
       "      <td>...</td>\n",
       "      <td>...</td>\n",
       "      <td>...</td>\n",
       "      <td>...</td>\n",
       "      <td>...</td>\n",
       "      <td>...</td>\n",
       "      <td>...</td>\n",
       "    </tr>\n",
       "    <tr>\n",
       "      <th>19708</th>\n",
       "      <td>500489.70</td>\n",
       "      <td>295250.50</td>\n",
       "      <td>0.00</td>\n",
       "      <td>0.00</td>\n",
       "      <td>0.000000</td>\n",
       "      <td>22.0</td>\n",
       "      <td>2.0</td>\n",
       "      <td>11.0</td>\n",
       "      <td>1.0</td>\n",
       "      <td>0.0</td>\n",
       "      <td>...</td>\n",
       "      <td>0</td>\n",
       "      <td>0</td>\n",
       "      <td>AIAA</td>\n",
       "      <td>submission_df</td>\n",
       "      <td>135.246032</td>\n",
       "      <td>187451</td>\n",
       "      <td>187451</td>\n",
       "      <td>1386</td>\n",
       "      <td>11701</td>\n",
       "      <td>1.517529e+12</td>\n",
       "    </tr>\n",
       "    <tr>\n",
       "      <th>19709</th>\n",
       "      <td>36523.77</td>\n",
       "      <td>36523.77</td>\n",
       "      <td>0.00</td>\n",
       "      <td>0.00</td>\n",
       "      <td>0.000000</td>\n",
       "      <td>4.0</td>\n",
       "      <td>2.0</td>\n",
       "      <td>2.0</td>\n",
       "      <td>2.0</td>\n",
       "      <td>45.0</td>\n",
       "      <td>...</td>\n",
       "      <td>0</td>\n",
       "      <td>0</td>\n",
       "      <td>DYSS</td>\n",
       "      <td>submission_df</td>\n",
       "      <td>77.891784</td>\n",
       "      <td>349812</td>\n",
       "      <td>349812</td>\n",
       "      <td>4491</td>\n",
       "      <td>30147</td>\n",
       "      <td>4.175511e+07</td>\n",
       "    </tr>\n",
       "    <tr>\n",
       "      <th>19710</th>\n",
       "      <td>3442025.08</td>\n",
       "      <td>3442025.08</td>\n",
       "      <td>0.00</td>\n",
       "      <td>0.00</td>\n",
       "      <td>0.000000</td>\n",
       "      <td>12.0</td>\n",
       "      <td>3.0</td>\n",
       "      <td>4.0</td>\n",
       "      <td>2.0</td>\n",
       "      <td>30.0</td>\n",
       "      <td>...</td>\n",
       "      <td>1</td>\n",
       "      <td>0</td>\n",
       "      <td>UGX</td>\n",
       "      <td>submission_df</td>\n",
       "      <td>77.891784</td>\n",
       "      <td>349812</td>\n",
       "      <td>349812</td>\n",
       "      <td>4491</td>\n",
       "      <td>30147</td>\n",
       "      <td>4.175511e+07</td>\n",
       "    </tr>\n",
       "    <tr>\n",
       "      <th>19711</th>\n",
       "      <td>116631.46</td>\n",
       "      <td>116631.46</td>\n",
       "      <td>0.00</td>\n",
       "      <td>0.00</td>\n",
       "      <td>0.000000</td>\n",
       "      <td>5.0</td>\n",
       "      <td>1.0</td>\n",
       "      <td>5.0</td>\n",
       "      <td>1.0</td>\n",
       "      <td>30.0</td>\n",
       "      <td>...</td>\n",
       "      <td>1</td>\n",
       "      <td>1</td>\n",
       "      <td>EEEM</td>\n",
       "      <td>submission_df</td>\n",
       "      <td>77.891784</td>\n",
       "      <td>349812</td>\n",
       "      <td>349812</td>\n",
       "      <td>4491</td>\n",
       "      <td>30147</td>\n",
       "      <td>4.175511e+07</td>\n",
       "    </tr>\n",
       "    <tr>\n",
       "      <th>19712</th>\n",
       "      <td>254630.96</td>\n",
       "      <td>273217.75</td>\n",
       "      <td>0.00</td>\n",
       "      <td>0.00</td>\n",
       "      <td>0.000000</td>\n",
       "      <td>3.0</td>\n",
       "      <td>1.0</td>\n",
       "      <td>3.0</td>\n",
       "      <td>4.0</td>\n",
       "      <td>0.0</td>\n",
       "      <td>...</td>\n",
       "      <td>0</td>\n",
       "      <td>1</td>\n",
       "      <td>AQJW</td>\n",
       "      <td>submission_df</td>\n",
       "      <td>262.465034</td>\n",
       "      <td>739364</td>\n",
       "      <td>739364</td>\n",
       "      <td>2817</td>\n",
       "      <td>54418</td>\n",
       "      <td>-2.654656e+05</td>\n",
       "    </tr>\n",
       "  </tbody>\n",
       "</table>\n",
       "<p>19713 rows × 351 columns</p>\n",
       "</div>"
      ],
      "text/plain": [
       "       baselinespend_usd  bestbid_usd  finalspend_usd  effectiveness_usd  \\\n",
       "0              123216.00    162000.63       111294.73           50705.90   \n",
       "1              217168.38    217168.38       212932.80            4235.58   \n",
       "2                5744.16      5744.16         5744.16               0.00   \n",
       "3               61179.86     61179.86        61179.86               0.00   \n",
       "4              126436.10    126436.10       121416.58            5019.52   \n",
       "...                  ...          ...             ...                ...   \n",
       "19708          500489.70    295250.50            0.00               0.00   \n",
       "19709           36523.77     36523.77            0.00               0.00   \n",
       "19710         3442025.08   3442025.08            0.00               0.00   \n",
       "19711          116631.46    116631.46            0.00               0.00   \n",
       "19712          254630.96    273217.75            0.00               0.00   \n",
       "\n",
       "       efficiency  participant  itemno  ratio  bidrankthattriggersovertime  \\\n",
       "0        0.312998          3.0     1.0    3.0                          3.0   \n",
       "1        0.019504          4.0     1.0    4.0                          0.0   \n",
       "2        0.000000          1.0     1.0    1.0                          1.0   \n",
       "3        0.000000          6.0     1.0    6.0                          0.0   \n",
       "4        0.039700          4.0     1.0    4.0                          0.0   \n",
       "...           ...          ...     ...    ...                          ...   \n",
       "19708    0.000000         22.0     2.0   11.0                          1.0   \n",
       "19709    0.000000          4.0     2.0    2.0                          2.0   \n",
       "19710    0.000000         12.0     3.0    4.0                          2.0   \n",
       "19711    0.000000          5.0     1.0    5.0                          1.0   \n",
       "19712    0.000000          3.0     1.0    3.0                          4.0   \n",
       "\n",
       "       biddingperiod  ...  setareviewperiodafterlotcloses_Yes  \\\n",
       "0               20.0  ...                                   1   \n",
       "1               30.0  ...                                   1   \n",
       "2                0.0  ...                                   1   \n",
       "3               30.0  ...                                   1   \n",
       "4               30.0  ...                                   1   \n",
       "...              ...  ...                                 ...   \n",
       "19708            0.0  ...                                   0   \n",
       "19709           45.0  ...                                   0   \n",
       "19710           30.0  ...                                   1   \n",
       "19711           30.0  ...                                   1   \n",
       "19712            0.0  ...                                   0   \n",
       "\n",
       "       day_type_Weekend  event_id           data  Mean_Lot_Item_Bid_Version  \\\n",
       "0                     0      FULA          train                 262.465034   \n",
       "1                     0      GAEQ          train                  77.891784   \n",
       "2                     0      AJUL          train                  77.891784   \n",
       "3                     0      CJFZ          train                  77.891784   \n",
       "4                     0      BMRW          train                  77.891784   \n",
       "...                 ...       ...            ...                        ...   \n",
       "19708                 0      AIAA  submission_df                 135.246032   \n",
       "19709                 0      DYSS  submission_df                  77.891784   \n",
       "19710                 0       UGX  submission_df                  77.891784   \n",
       "19711                 1      EEEM  submission_df                  77.891784   \n",
       "19712                 1      AQJW  submission_df                 262.465034   \n",
       "\n",
       "       Count_supplier  Count_Item_Name  Count_Lot_Item_Bid_Version  \\\n",
       "0              739364           739364                        2817   \n",
       "1              349812           349812                        4491   \n",
       "2              349812           349812                        4491   \n",
       "3              349812           349812                        4491   \n",
       "4              349812           349812                        4491   \n",
       "...               ...              ...                         ...   \n",
       "19708          187451           187451                        1386   \n",
       "19709          349812           349812                        4491   \n",
       "19710          349812           349812                        4491   \n",
       "19711          349812           349812                        4491   \n",
       "19712          739364           739364                        2817   \n",
       "\n",
       "       Count_Accepted  Average_savings  \n",
       "0               54418    -2.654656e+05  \n",
       "1               30147     4.175511e+07  \n",
       "2               30147     4.175511e+07  \n",
       "3               30147     4.175511e+07  \n",
       "4               30147     4.175511e+07  \n",
       "...               ...              ...  \n",
       "19708           11701     1.517529e+12  \n",
       "19709           30147     4.175511e+07  \n",
       "19710           30147     4.175511e+07  \n",
       "19711           30147     4.175511e+07  \n",
       "19712           54418    -2.654656e+05  \n",
       "\n",
       "[19713 rows x 351 columns]"
      ]
     },
     "execution_count": 35,
     "metadata": {},
     "output_type": "execute_result"
    }
   ],
   "source": [
    "result1"
   ]
  },
  {
   "cell_type": "code",
   "execution_count": 37,
   "metadata": {},
   "outputs": [],
   "source": [
    "result1.to_csv(r'Data\\NEW_ADS3.csv')"
   ]
  },
  {
   "cell_type": "code",
   "execution_count": null,
   "metadata": {},
   "outputs": [],
   "source": []
  }
 ],
 "metadata": {
  "kernelspec": {
   "display_name": "base",
   "language": "python",
   "name": "python3"
  },
  "language_info": {
   "codemirror_mode": {
    "name": "ipython",
    "version": 3
   },
   "file_extension": ".py",
   "mimetype": "text/x-python",
   "name": "python",
   "nbconvert_exporter": "python",
   "pygments_lexer": "ipython3",
   "version": "3.10.14"
  }
 },
 "nbformat": 4,
 "nbformat_minor": 2
}
