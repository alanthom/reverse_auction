{
 "cells": [
  {
   "cell_type": "markdown",
   "metadata": {},
   "source": [
    "Imports"
   ]
  },
  {
   "cell_type": "code",
   "execution_count": 1,
   "metadata": {},
   "outputs": [],
   "source": [
    "import pandas as pd\n",
    "import numpy as np\n",
    "from xgboost import XGBRegressor\n",
    "from sklearn.model_selection import train_test_split\n",
    "from sklearn.preprocessing import StandardScaler"
   ]
  },
  {
   "cell_type": "code",
   "execution_count": 2,
   "metadata": {},
   "outputs": [],
   "source": [
    "result1=pd.read_csv(r'Data\\NEW_ADS3.csv')"
   ]
  },
  {
   "cell_type": "code",
   "execution_count": 3,
   "metadata": {},
   "outputs": [],
   "source": [
    "train1 = result1[result1['data']=='train']\n",
    "validation=result1[result1['data']=='submission_df']"
   ]
  },
  {
   "cell_type": "code",
   "execution_count": 4,
   "metadata": {},
   "outputs": [],
   "source": [
    "y = train1['efficiency']\n",
    "x = train1.drop(columns=['effectiveness_usd','efficiency','event_id', 'data','starttime'])\n"
   ]
  },
  {
   "cell_type": "code",
   "execution_count": 5,
   "metadata": {},
   "outputs": [],
   "source": [
    "x.drop('finalspend_usd',axis=1,inplace=True)"
   ]
  },
  {
   "cell_type": "markdown",
   "metadata": {},
   "source": [
    "Outlier Cap"
   ]
  },
  {
   "cell_type": "code",
   "execution_count": 6,
   "metadata": {},
   "outputs": [],
   "source": [
    "# Calculate the IQR for X (independent variable)\n",
    "Q1_X = x.quantile(0.25)\n",
    "Q3_X = x.quantile(0.75)\n",
    "IQR_X = Q3_X - Q1_X\n",
    "\n",
    "# Calculate the IQR for Y (dependent variable)\n",
    "Q1_Y = y.quantile(0.25)\n",
    "Q3_Y = y.quantile(0.75)\n",
    "IQR_Y = Q3_Y - Q1_Y\n",
    "\n",
    "lower_bound_X = Q1_X - 1.5 * IQR_X\n",
    "upper_bound_X = Q3_X + 1.5 * IQR_X\n",
    "\n",
    "# Define the bounds for Y\n",
    "lower_bound_Y = Q1_Y - 1.5 * IQR_Y\n",
    "upper_bound_Y = Q3_Y + 1.5 * IQR_Y"
   ]
  },
  {
   "cell_type": "code",
   "execution_count": 7,
   "metadata": {},
   "outputs": [],
   "source": [
    "# Cap the outliers for X\n",
    "for column in x.columns:\n",
    "    x[column] = np.where(x[column] < lower_bound_X[column], lower_bound_X[column], x[column])\n",
    "    x[column] = np.where(x[column] > upper_bound_X[column], upper_bound_X[column], x[column])\n"
   ]
  },
  {
   "cell_type": "code",
   "execution_count": 8,
   "metadata": {},
   "outputs": [],
   "source": [
    "y_capped = np.where(y < lower_bound_Y, lower_bound_Y, y)\n",
    "y_capped = np.where(y_capped > upper_bound_Y, upper_bound_Y, y_capped)\n",
    "\n",
    "# Convert back to Series if needed\n",
    "y= pd.Series(y_capped, index=y.index)\n"
   ]
  },
  {
   "cell_type": "markdown",
   "metadata": {},
   "source": [
    "RFE FS"
   ]
  },
  {
   "cell_type": "code",
   "execution_count": 9,
   "metadata": {},
   "outputs": [
    {
     "name": "stdout",
     "output_type": "stream",
     "text": [
      "Selected Features by RFE: Index(['Unnamed: 0', 'baselinespend_usd', 'bestbid_usd', 'participant',\n",
      "       'itemno', 'ratio', 'biddingperiod', 'overtimeperiod(minutes)',\n",
      "       'reviewtimeperiod', 'timebetweenlotclosing', 'is_weekend', 'item_name',\n",
      "       'zone_APAC', 'zone_EUR', 'zone_MAZ', 'zone_NAZ', 'zone_SAZ',\n",
      "       'event_template_ABI Reverse Auction (Formula)',\n",
      "       'event_template_ABI Reverse Auction (Formula) - NI',\n",
      "       'event_template_ABI Reverse Auction - NI',\n",
      "       'canparticipantsplacebidsduringpreviewperiod_Do not allow prebids',\n",
      "       'canparticipantsseeranks?_Their own rank',\n",
      "       'improvebidamountby_Percentage',\n",
      "       'setareviewperiodafterlotoritemcloses_Yes', 'Mean_Lot_Item_Bid_Version',\n",
      "       'Count_supplier', 'Count_Item_Name', 'Count_Lot_Item_Bid_Version',\n",
      "       'Count_Accepted', 'Average_savings'],\n",
      "      dtype='object')\n"
     ]
    }
   ],
   "source": [
    "from sklearn.model_selection import train_test_split\n",
    "from sklearn.preprocessing import StandardScaler\n",
    "from sklearn.linear_model import LinearRegression\n",
    "from sklearn.metrics import mean_squared_error, r2_score\n",
    "# Split data into training and test sets\n",
    "x_train, x_test, y_train, y_test = train_test_split(x, y, test_size=0.2, random_state=42)\n",
    "\n",
    "# Standardize the features\n",
    "scaler_x = StandardScaler()\n",
    "x_train_scaled = scaler_x.fit_transform(x_train)\n",
    "x_test_scaled = scaler_x.transform(x_test)\n",
    "\n",
    "# Standardize the target variable\n",
    "scaler_y = StandardScaler()\n",
    "y_train_scaled = scaler_y.fit_transform(y_train.values.reshape(-1, 1))\n",
    "y_test_scaled = scaler_y.transform(y_test.values.reshape(-1, 1))\n",
    "from sklearn.feature_selection import RFE\n",
    "model_rfe = LinearRegression()\n",
    "selector_rfe = RFE(model_rfe, n_features_to_select=30)  # Specify number of features to keep\n",
    "selector_rfe.fit(x_train_scaled, y_train_scaled)\n",
    "\n",
    "# Get the selected features\n",
    "selected_features = x_train.columns[selector_rfe.support_]\n",
    "print(\"Selected Features by RFE:\", selected_features)\n"
   ]
  },
  {
   "cell_type": "markdown",
   "metadata": {},
   "source": [
    "XGB FS"
   ]
  },
  {
   "cell_type": "code",
   "execution_count": 10,
   "metadata": {},
   "outputs": [
    {
     "name": "stdout",
     "output_type": "stream",
     "text": [
      "Selected Features by XGBoost: Index(['zone_APAC', 'categ_l2_IND CAPEX', 'Unnamed: 0',\n",
      "       'overtimeperiod(minutes)', 'event_template_ABI Reverse Auction - NI',\n",
      "       'ratio', 'canparticipantsseeranks?_Their own rank',\n",
      "       'Mean_Lot_Item_Bid_Version', 'Average_savings', 'bestbid_usd',\n",
      "       'Count_supplier', 'enabletrafficlightbidding_Yes', 'baselinespend_usd',\n",
      "       'improvebidamountby_Percentage', 'bidrankthattriggersovertime',\n",
      "       'Count_Lot_Item_Bid_Version',\n",
      "       'showlineitemlevelrankinlot_Yes, to Buyers and Participants', 'itemno',\n",
      "       'canparticipantsplacebidsduringpreviewperiod_Do not allow prebids',\n",
      "       'canparticipantsseeranks?_No', 'biddingperiod',\n",
      "       'setareviewperiodafterlotoritemcloses_Yes', 'participant',\n",
      "       'reviewtimeperiod', 'timebetweenlotclosing', 'is_weekend', 'item_name',\n",
      "       'zone_EUR', 'zone_MAZ', 'zone_NAZ', 'zone_SAZ',\n",
      "       'event_template_ABI Reverse Auction (Formula)',\n",
      "       'event_template_ABI Reverse Auction (Formula) - NI',\n",
      "       'event_template_Reverse Auction',\n",
      "       'dag_categ_3rd Party Labor – Maintenance - Corrective & Emergency'],\n",
      "      dtype='object')\n"
     ]
    }
   ],
   "source": [
    "# Split data into training and test sets\n",
    "x_train, x_test, y_train, y_test = train_test_split(x, y, test_size=0.2, random_state=42)\n",
    "\n",
    "# Standardize the features\n",
    "scaler_x = StandardScaler()\n",
    "x_train_scaled = scaler_x.fit_transform(x_train)\n",
    "x_test_scaled = scaler_x.transform(x_test)\n",
    "\n",
    "# Train an XGBoost Model\n",
    "xgb_model = XGBRegressor(random_state=42)\n",
    "xgb_model.fit(x_train_scaled, y_train)\n",
    "\n",
    "# Get feature importances\n",
    "feature_importances = pd.Series(xgb_model.feature_importances_, index=x.columns)\n",
    "\n",
    "# Select top n features\n",
    "n_features = 35\n",
    "selected_features = feature_importances.nlargest(n_features).index\n",
    "\n",
    "print(\"Selected Features by XGBoost:\", selected_features)\n",
    "\n",
    "# Filter data to include only selected features\n",
    "x_train_selected = x_train[selected_features]\n",
    "x_test_selected = x_test[selected_features]\n"
   ]
  },
  {
   "cell_type": "code",
   "execution_count": 11,
   "metadata": {},
   "outputs": [],
   "source": [
    "additional_features = [\n",
    "    'dag_categ_INDUSTRIAL CAPEX',\n",
    "    'dag_categ_INDUSTRIAL CAPEX - GLOBAL - ABOVE 500K',\n",
    "    'dag_categ_INDUSTRIAL CAPEX - LOCAL',\n",
    "    'dag_categ_Indirect Trade Marketing - Distributors and Associations',\n",
    "    'dag_categ_Office Supplies', 'dag_categ_Other Office Utilities',\n",
    "    'dag_categ_Water, Electricity & Gas (Office)', 'categ_l1_COMMERCIAL',\n",
    "    'categ_l1_PACKAGING', 'categ_l2_IND CAPEX', 'categ_l2_MARKETING',\n",
    "    'categ_l2_OFFICE UTILITIES', 'categ_l2_PACKAGING', 'categ_l2_POCM',\n",
    "    'categ_l2_SALES', 'baselinespend_usd', 'bestbid_usd', 'participant',\n",
    "    'itemno', 'biddingperiod', 'timebetweenlotclosing',\n",
    "    'setareviewperiodafterlotcloses_Yes', 'zone_APAC', 'zone_EUR', 'zone_MAZ',\n",
    "    'zone_NAZ', 'zone_SAZ', 'enabletrafficlightbidding_Yes','ratio','is_weekend','Mean_Lot_Item_Bid_Version','Count_supplier','Count_Item_Name','Count_Lot_Item_Bid_Version','Count_Accepted','Average_savings']\n",
    "\n",
    "selected_features = selected_features.tolist() if isinstance(selected_features, (pd.Series, np.ndarray)) else selected_features\n",
    "additional_features = additional_features.tolist() if isinstance(additional_features, (pd.Series, np.ndarray)) else additional_features\n",
    "\n",
    "selected_features = list(selected_features)\n",
    "\n",
    "selected_features = selected_features+additional_features\n",
    "selected_features = list(set(selected_features))"
   ]
  },
  {
   "cell_type": "code",
   "execution_count": 12,
   "metadata": {},
   "outputs": [],
   "source": [
    "x=x[selected_features]"
   ]
  },
  {
   "cell_type": "code",
   "execution_count": 13,
   "metadata": {},
   "outputs": [],
   "source": [
    "# x=x[['dag_categ_INDUSTRIAL CAPEX',\n",
    "#        'dag_categ_INDUSTRIAL CAPEX - GLOBAL - ABOVE 500K',\n",
    "#        'dag_categ_INDUSTRIAL CAPEX - LOCAL',\n",
    "#        'dag_categ_Indirect Trade Marketing - Distributors and Associations',\n",
    "#        'dag_categ_Office Supplies', 'dag_categ_Other Office Utilities',\n",
    "#        'dag_categ_Water, Electricity & Gas (Office)', 'categ_l1_COMMERCIAL',\n",
    "#        'categ_l1_PACKAGING', 'categ_l2_IND CAPEX', 'categ_l2_MARKETING',\n",
    "#        'categ_l2_OFFICE UTILITIES', 'categ_l2_PACKAGING', 'categ_l2_POCM',\n",
    "#        'categ_l2_SALES','baselinespend_usd','bestbid_usd','participant','itemno','biddingperiod','timebetweenlotclosing','setareviewperiodafterlotcloses_Yes','zone_APAC','zone_EUR','zone_MAZ','zone_NAZ','zone_SAZ','enabletrafficlightbidding_Yes']]"
   ]
  },
  {
   "cell_type": "code",
   "execution_count": 14,
   "metadata": {},
   "outputs": [],
   "source": [
    "# x=x[['dag_categ_Corporate Sponsorship', 'dag_categ_Courier/ Fulfillment',\n",
    "#        'dag_categ_Flavors',\n",
    "#        'dag_categ_Fridges & Coolers-New (Global Supplier+Over $1M)',\n",
    "#        'dag_categ_Heat - Heating oil', 'dag_categ_INDUSTRIAL CAPEX',\n",
    "#        'dag_categ_INDUSTRIAL CAPEX - GLOBAL - ABOVE 500K',\n",
    "#        'dag_categ_INDUSTRIAL CAPEX - LOCAL', 'dag_categ_IT CAPEX',\n",
    "#        'dag_categ_IT CAPEX (Global / Cross Region)',\n",
    "#        'dag_categ_IT CAPEX (Regional / Local)',\n",
    "#        'dag_categ_Indirect Trade Marketing - Distributors and Associations',\n",
    "#        'dag_categ_Legally Required Communication', 'dag_categ_Ocean',\n",
    "#        'dag_categ_Office Supplies', 'dag_categ_Other Office Utilities',\n",
    "#        'dag_categ_Plastic Labels', 'dag_categ_Postage/Courier',\n",
    "#        'dag_categ_RETURNABLE PALLETS, CRATES',\n",
    "#        'dag_categ_Water, Electricity & Gas (Office)', 'categ_l1_COMMERCIAL',\n",
    "#        'categ_l1_PACKAGING', 'categ_l2_IND CAPEX', 'categ_l2_IT CAPEX',\n",
    "#        'categ_l2_MARKETING', 'categ_l2_OFFICE UTILITIES', 'categ_l2_PACKAGING',\n",
    "#        'categ_l2_POCM', 'categ_l2_SALES', 'categ_l2_SECONDARY PACKAGING','baselinespend_usd','bestbid_usd','participant','itemno','biddingperiod','timebetweenlotclosing','setareviewperiodafterlotcloses_Yes','zone_APAC','zone_EUR','zone_MAZ','zone_NAZ','zone_SAZ','enabletrafficlightbidding_Yes']]"
   ]
  },
  {
   "cell_type": "code",
   "execution_count": null,
   "metadata": {},
   "outputs": [],
   "source": []
  },
  {
   "cell_type": "code",
   "execution_count": null,
   "metadata": {},
   "outputs": [],
   "source": []
  }
 ],
 "metadata": {
  "kernelspec": {
   "display_name": "base",
   "language": "python",
   "name": "python3"
  },
  "language_info": {
   "codemirror_mode": {
    "name": "ipython",
    "version": 3
   },
   "file_extension": ".py",
   "mimetype": "text/x-python",
   "name": "python",
   "nbconvert_exporter": "python",
   "pygments_lexer": "ipython3",
   "version": "3.10.14"
  }
 },
 "nbformat": 4,
 "nbformat_minor": 2
}
